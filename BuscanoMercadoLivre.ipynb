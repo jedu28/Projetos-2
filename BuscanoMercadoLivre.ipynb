{
 "cells": [
  {
   "cell_type": "code",
   "execution_count": 1,
   "id": "2598e826-aab9-41c2-8bac-712f563d70e9",
   "metadata": {},
   "outputs": [],
   "source": [
    "import pandas as pd \n",
    "import numpy as np\n",
    "from requests import get\n",
    "import requests\n",
    "from selenium import webdriver\n",
    "from requests import get\n",
    "from bs4 import BeautifulSoup\n",
    "from selenium.webdriver.common.keys import Keys\n",
    "import time"
   ]
  },
  {
   "cell_type": "code",
   "execution_count": 2,
   "id": "3d2aadd4-eb37-4903-aaed-603317e59f86",
   "metadata": {},
   "outputs": [],
   "source": [
    "import re"
   ]
  },
  {
   "cell_type": "code",
   "execution_count": 3,
   "id": "624923e7-cc71-4f15-9bc1-1cd0992c9ac4",
   "metadata": {},
   "outputs": [],
   "source": [
    "#def buscadeveiculosolx (pages, regiao):\n",
    "driver = webdriver.Chrome(executable_path='./chr_drv/chromedriver.exe')\n",
    "#soup = BeautifulSoup(driver.page_source, 'html.parser')\n",
    "url = \"https://lista.mercadolivre.com.br/veiculos/carros-caminhonetes/#deal_print_id=9f973e90-e73e-11eb-b5cc-d5f53f9f352d&c_id=carousel&c_element_order=1&c_campaign=CARROS-E-CAMINHONETES&c_uid=9f973e90-e73e-11eb-b5cc-d5f53f9f352d\"\n",
    "pagina = driver.get(url)\n",
    "\n",
    "\n",
    "#driver.find_element_by_xpath(\"/html/body/div[1]/div[2]/div[2]/div/div[2]/div[2]/div/div[5]/div/div/div/form/div[2]/div/button\").click()\n",
    "    \n",
    "  "
   ]
  },
  {
   "cell_type": "code",
   "execution_count": 4,
   "id": "e3aae07c-5905-40a2-97b9-61e001f6a96e",
   "metadata": {},
   "outputs": [],
   "source": [
    "time.sleep(3)\n",
    "valor = \"45000\"\n",
    "caixadevalor = driver.find_element_by_css_selector('[data-testid=\"Maximum-price\"]')\n",
    "caixadevalor.clear()\n",
    "caixadevalor.send_keys(valor)"
   ]
  },
  {
   "cell_type": "code",
   "execution_count": 5,
   "id": "c3c01ca7-1152-4df7-b417-84aa543e08cf",
   "metadata": {},
   "outputs": [],
   "source": [
    "driver.find_element_by_css_selector('[data-testid=\"submit-price\"]').click()\n",
    "time.sleep(2)\n",
    "driver.find_element_by_id(\"newCookieDisclaimerButton\").click()"
   ]
  },
  {
   "cell_type": "code",
   "execution_count": 6,
   "id": "cd1510c8-7130-4c8f-974c-5aa8c655354f",
   "metadata": {},
   "outputs": [],
   "source": [
    "carro = []\n",
    "vale = []\n",
    "links = []\n",
    "count=1\n",
    "n =3\n",
    "v=n\n",
    "if n>5:\n",
    "    v=5"
   ]
  },
  {
   "cell_type": "code",
   "execution_count": 7,
   "id": "78beab9a-6284-4e33-a2b5-e4baac92360f",
   "metadata": {},
   "outputs": [],
   "source": [
    "#driver.find_elements_by_css_selecto\n",
    "\n",
    "\n",
    "\n",
    "for j in range(n):\n",
    "    time.sleep(v)\n",
    "    \n",
    "    carros= driver.find_elements_by_xpath('/html/body/main/div/div/section/ol[*]/li[*]/div/div/a/div/div[*]/h2')\n",
    "   \n",
    "    pula_pag = driver.find_element_by_css_selector('[title=\"Seguinte\"]')\n",
    "    preço= driver.find_elements_by_xpath(\"/html/body/main/div/div/section/ol[*]/li[*]/div/div/a/div/div[*]/div/div/span/span[2]/span[2]\")\n",
    "    \n",
    "    list_links = driver.find_elements_by_xpath('/html/body/main/div/div/section/ol[*]/li[*]/div/div/a')\n",
    "\n",
    "    for i in list_links:\n",
    "        links.append( i.get_attribute('href'))\n",
    "    for k in carros:\n",
    "        carro.append(k.text)\n",
    "            \n",
    "    for q in preço:\n",
    "       \n",
    "        vale.append(q.text)\n",
    "    \n",
    "        \n",
    "    if count<n:\n",
    "        count+=1\n",
    "        pula_pag.click()\n",
    "       \n"
   ]
  },
  {
   "cell_type": "code",
   "execution_count": 8,
   "id": "fd2c6ff0-b11f-4175-a2b2-af915669318a",
   "metadata": {},
   "outputs": [],
   "source": [
    "carr = pd.DataFrame(carro)\n",
    "price = pd.DataFrame(vale).astype(\"float\")\n",
    "url =pd.DataFrame(links)\n",
    "\n"
   ]
  },
  {
   "cell_type": "code",
   "execution_count": 9,
   "id": "f07294ad-7636-4e7c-b345-188b1c930aa5",
   "metadata": {},
   "outputs": [
    {
     "data": {
      "text/plain": [
       "50"
      ]
     },
     "execution_count": 9,
     "metadata": {},
     "output_type": "execute_result"
    }
   ],
   "source": [
    "pd.get_option('max_colwidth')"
   ]
  },
  {
   "cell_type": "code",
   "execution_count": 10,
   "id": "83c908af-2454-4e9a-8677-374946286804",
   "metadata": {},
   "outputs": [],
   "source": [
    "pd.set_option('max_colwidth',None)"
   ]
  },
  {
   "cell_type": "code",
   "execution_count": 11,
   "id": "0f6275b5-c4d0-4515-8bf8-ca3925d5d3a0",
   "metadata": {},
   "outputs": [],
   "source": [
    "carr.rename({0:\"Nome\"}, axis=1,inplace=True)\n",
    "price.rename({0:\"Valor em milhar\"},axis=1, inplace=True)\n",
    "url.rename({0:\"URL\"}, axis=1, inplace = True)\n"
   ]
  },
  {
   "cell_type": "code",
   "execution_count": 12,
   "id": "0ded5de2-75cd-4bf5-95b7-7e5d758dcbcf",
   "metadata": {},
   "outputs": [],
   "source": [
    "data = pd.concat([carr,price,url],axis=1)"
   ]
  },
  {
   "cell_type": "code",
   "execution_count": 17,
   "id": "dd992b53-93e3-4e4a-9d3d-84ec70063d36",
   "metadata": {},
   "outputs": [],
   "source": [
    "data2 = data.sort_values('Valor em milhar',ascending=True )\n",
    "data2.reset_index(drop=True, inplace=True)"
   ]
  },
  {
   "cell_type": "code",
   "execution_count": 14,
   "id": "f5209c1a-1f14-4c08-a5df-6d7b2aaa4ff1",
   "metadata": {},
   "outputs": [],
   "source": [
    "data2.to_csv('Carros.csv',sep=',', encoding = 'utf-8-sig')"
   ]
  },
  {
   "cell_type": "code",
   "execution_count": 15,
   "id": "bbe2e1c5-68e2-4383-bb5f-b697c50291e4",
   "metadata": {},
   "outputs": [
    {
     "data": {
      "text/html": [
       "<div>\n",
       "<style scoped>\n",
       "    .dataframe tbody tr th:only-of-type {\n",
       "        vertical-align: middle;\n",
       "    }\n",
       "\n",
       "    .dataframe tbody tr th {\n",
       "        vertical-align: top;\n",
       "    }\n",
       "\n",
       "    .dataframe thead th {\n",
       "        text-align: right;\n",
       "    }\n",
       "</style>\n",
       "<table border=\"1\" class=\"dataframe\">\n",
       "  <thead>\n",
       "    <tr style=\"text-align: right;\">\n",
       "      <th></th>\n",
       "      <th>Nome</th>\n",
       "      <th>Valor em milhar</th>\n",
       "      <th>URL</th>\n",
       "    </tr>\n",
       "  </thead>\n",
       "  <tbody>\n",
       "  </tbody>\n",
       "</table>\n",
       "</div>"
      ],
      "text/plain": [
       "Empty DataFrame\n",
       "Columns: [Nome, Valor em milhar, URL]\n",
       "Index: []"
      ]
     },
     "execution_count": 15,
     "metadata": {},
     "output_type": "execute_result"
    }
   ],
   "source": [
    "data2.loc[(data2.Nome==\"Renault Clio Clio Hatch. Expression 1.0 16v (flex)\")]"
   ]
  },
  {
   "cell_type": "code",
   "execution_count": null,
   "id": "423d71dc-d34a-4235-b91e-ff8afd08fb94",
   "metadata": {},
   "outputs": [],
   "source": []
  },
  {
   "cell_type": "code",
   "execution_count": null,
   "id": "bf81726a-b596-4746-8362-2cb29b5ba51f",
   "metadata": {},
   "outputs": [],
   "source": []
  }
 ],
 "metadata": {
  "kernelspec": {
   "display_name": "Python 3",
   "language": "python",
   "name": "python3"
  },
  "language_info": {
   "codemirror_mode": {
    "name": "ipython",
    "version": 3
   },
   "file_extension": ".py",
   "mimetype": "text/x-python",
   "name": "python",
   "nbconvert_exporter": "python",
   "pygments_lexer": "ipython3",
   "version": "3.9.4"
  }
 },
 "nbformat": 4,
 "nbformat_minor": 5
}
