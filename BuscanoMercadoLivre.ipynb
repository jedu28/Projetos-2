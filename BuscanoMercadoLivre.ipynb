{
 "cells": [
  {
   "cell_type": "markdown",
   "id": "9b61609e-366a-4981-9180-3fb7e8c85643",
   "metadata": {},
   "source": [
    "# Scrapping MILI"
   ]
  },
  {
   "cell_type": "markdown",
   "id": "43f81da3-860b-48e6-9638-33b5bc935955",
   "metadata": {},
   "source": [
    "## Este código permite que você pesquise e extraia dados de carros do mercado livre podendo ser generalizado"
   ]
  },
  {
   "cell_type": "markdown",
   "id": "d1aac6d8-184c-433d-acf9-85d4da2d7013",
   "metadata": {},
   "source": [
    "importando os pacotes:"
   ]
  },
  {
   "cell_type": "code",
   "execution_count": null,
   "id": "9b4899f0-3541-4eb4-9cba-8e822407ab0b",
   "metadata": {},
   "outputs": [],
   "source": [
    "import pandas as pd \n",
    "import numpy as np\n",
    "from selenium import webdriver\n",
    "from requests import get\n",
    "from selenium.webdriver.common.keys import Keys\n",
    "import time"
   ]
  },
  {
   "cell_type": "markdown",
   "id": "cfb51840-11de-46cf-8dc3-1bf95b54685f",
   "metadata": {},
   "source": [
    "Aqui eu defini o driver:"
   ]
  },
  {
   "cell_type": "code",
   "execution_count": null,
   "id": "95a7cdc9-20ab-495a-8e4a-38a64eca0ba3",
   "metadata": {},
   "outputs": [],
   "source": [
    "driver = webdriver.Chrome(executable_path='./chr_drv/chromedriver.exe')"
   ]
  },
  {
   "cell_type": "markdown",
   "id": "749853e1-0986-49fe-bbd6-69500f1d12ef",
   "metadata": {},
   "source": [
    "### Parte_1_: Acessando a página"
   ]
  },
  {
   "cell_type": "code",
   "execution_count": null,
   "id": "7a94f2d4-2c9c-404e-bd76-6c22fe4a5d1d",
   "metadata": {},
   "outputs": [],
   "source": [
    "url = \"https://lista.mercadolivre.com.br/veiculos/carros-caminhonetes/#deal_print_id=9f973e90-e73e-11eb-b5cc-d5f53f9f352d&c_id=carousel&c_element_order=1&c_campaign=CARROS-E-CAMINHONETES&c_uid=9f973e90-e73e-11eb-b5cc-d5f53f9f352d\"\n",
    "pagina = driver.get(url)"
   ]
  },
  {
   "cell_type": "markdown",
   "id": "ba158800-1ad0-414e-9795-7c40c15be136",
   "metadata": {},
   "source": [
    "## Definindo um critério:"
   ]
  },
  {
   "cell_type": "markdown",
   "id": "37464a0a-e0e7-4040-8119-28ecddf84887",
   "metadata": {},
   "source": [
    "### <span style=\"color:green\">Observação: esse time é para que nosso boot espere um intervalo de 3 segundos para fazer a operação</span>"
   ]
  },
  {
   "cell_type": "code",
   "execution_count": 4,
   "id": "e3aae07c-5905-40a2-97b9-61e001f6a96e",
   "metadata": {},
   "outputs": [],
   "source": [
    "time.sleep(3)\n",
    "valor = \"45000\"\n",
    "caixadevalor = driver.find_element_by_css_selector('[data-testid=\"Maximum-price\"]')\n",
    "caixadevalor.clear()\n",
    "caixadevalor.send_keys(valor)"
   ]
  },
  {
   "cell_type": "markdown",
   "id": "528ca5e9-efdd-4c6b-90c5-d8b670e7b1ee",
   "metadata": {},
   "source": [
    "## Aqui defini o botão para aplicar nosso critério\n",
    "### <span style=\"color:red\">Observação: aqui defini um botão para acessar o cookie do site e clicar também seria nosso find_by_id</span>"
   ]
  },
  {
   "cell_type": "code",
   "execution_count": 5,
   "id": "c3c01ca7-1152-4df7-b417-84aa543e08cf",
   "metadata": {},
   "outputs": [],
   "source": [
    "driver.find_element_by_css_selector('[data-testid=\"submit-price\"]').click()\n",
    "time.sleep(2)\n",
    "driver.find_element_by_id(\"newCookieDisclaimerButton\").click()"
   ]
  },
  {
   "cell_type": "markdown",
   "id": "e41e5439-0dfd-4998-9a5e-eb235d7fefea",
   "metadata": {},
   "source": [
    "## Definição das listas e do contador posteriormente usados:"
   ]
  },
  {
   "cell_type": "code",
   "execution_count": 6,
   "id": "cd1510c8-7130-4c8f-974c-5aa8c655354f",
   "metadata": {},
   "outputs": [],
   "source": [
    "carro = []\n",
    "vale = []\n",
    "links = []\n",
    "count = 1\n"
   ]
  },
  {
   "cell_type": "markdown",
   "id": "207dba65-8dd0-4923-962e-26077ab70a32",
   "metadata": {},
   "source": [
    "#### Aqui eu defini quantas paginas iremos acessar com o n\n",
    "#### Esse v será nosso time que poderá ser no maximo igual a 5 segundos, caso contrário ele reseta"
   ]
  },
  {
   "cell_type": "code",
   "execution_count": null,
   "id": "3c1f1775-26f7-439b-833b-197846404fba",
   "metadata": {},
   "outputs": [],
   "source": [
    "n = 3\n",
    "v = n\n",
    "if n>5:\n",
    "    v=5"
   ]
  },
  {
   "cell_type": "markdown",
   "id": "5edf03b3-07ff-41c9-b734-5cc624461797",
   "metadata": {},
   "source": [
    "## - Pulo do gato:\n",
    "### o primeiro for passa a página\n",
    "### o if impede que ele pule mais páginas que o necessário(talvez dê pra ganhar aqui fazendo n-1)\n",
    "### o segundo, terceiro e quarto for preenche a lista com o link, descrição geral e preço"
   ]
  },
  {
   "cell_type": "code",
   "execution_count": 7,
   "id": "78beab9a-6284-4e33-a2b5-e4baac92360f",
   "metadata": {},
   "outputs": [],
   "source": [
    "\n",
    "\n",
    "\n",
    "\n",
    "for j in range(n):\n",
    "    time.sleep(v)\n",
    "    \n",
    "    carros= driver.find_elements_by_xpath('/html/body/main/div/div/section/ol[*]/li[*]/div/div/a/div/div[*]/h2')\n",
    "   \n",
    "    pula_pag = driver.find_element_by_css_selector('[title=\"Seguinte\"]')\n",
    "    preço= driver.find_elements_by_xpath(\"/html/body/main/div/div/section/ol[*]/li[*]/div/div/a/div/div[*]/div/div/span/span[2]/span[2]\")\n",
    "    \n",
    "    list_links = driver.find_elements_by_xpath('/html/body/main/div/div/section/ol[*]/li[*]/div/div/a')\n",
    "\n",
    "    for i in list_links:\n",
    "        links.append( i.get_attribute('href'))\n",
    "    for k in carros:\n",
    "        carro.append(k.text)\n",
    "            \n",
    "    for q in preço:\n",
    "       \n",
    "        vale.append(q.text)\n",
    "    \n",
    "        \n",
    "    if count<n:\n",
    "        count+=1\n",
    "        pula_pag.click()\n",
    "       \n"
   ]
  },
  {
   "cell_type": "markdown",
   "id": "085fc600-0b75-41f3-81a3-04e7428244ff",
   "metadata": {},
   "source": [
    "## Cria o DF, Organiza e Salva em CSV"
   ]
  },
  {
   "cell_type": "code",
   "execution_count": 8,
   "id": "fd2c6ff0-b11f-4175-a2b2-af915669318a",
   "metadata": {},
   "outputs": [],
   "source": [
    "carr = pd.DataFrame(carro)\n",
    "price = pd.DataFrame(vale).astype(\"float\")\n",
    "url =pd.DataFrame(links)\n",
    "\n"
   ]
  },
  {
   "cell_type": "code",
   "execution_count": 9,
   "id": "f07294ad-7636-4e7c-b345-188b1c930aa5",
   "metadata": {},
   "outputs": [
    {
     "data": {
      "text/plain": [
       "50"
      ]
     },
     "execution_count": 9,
     "metadata": {},
     "output_type": "execute_result"
    }
   ],
   "source": [
    "pd.get_option('max_colwidth')"
   ]
  },
  {
   "cell_type": "code",
   "execution_count": 10,
   "id": "83c908af-2454-4e9a-8677-374946286804",
   "metadata": {},
   "outputs": [],
   "source": [
    "pd.set_option('max_colwidth',\n",
    "              None)"
   ]
  },
  {
   "cell_type": "code",
   "execution_count": 18,
   "id": "0f6275b5-c4d0-4515-8bf8-ca3925d5d3a0",
   "metadata": {},
   "outputs": [],
   "source": [
    "carr.rename({0:\"Nome\"}, \n",
    "            axis=1,\n",
    "            inplace=True)\n",
    "\n",
    "price.rename({0:\"Valor em milhar\"}\n",
    "             ,axis=1, \n",
    "             inplace=True)\n",
    "\n",
    "url.rename({0:\"URL\"},\n",
    "           axis=1,\n",
    "           inplace = True)\n"
   ]
  },
  {
   "cell_type": "code",
   "execution_count": 12,
   "id": "0ded5de2-75cd-4bf5-95b7-7e5d758dcbcf",
   "metadata": {},
   "outputs": [],
   "source": [
    "data = pd.concat([carr,price,url],axis=1)"
   ]
  },
  {
   "cell_type": "code",
   "execution_count": 17,
   "id": "dd992b53-93e3-4e4a-9d3d-84ec70063d36",
   "metadata": {},
   "outputs": [],
   "source": [
    "data2 = data.sort_values('Valor em milhar',ascending=True )\n",
    "data2.reset_index(drop=True, inplace=True)"
   ]
  },
  {
   "cell_type": "code",
   "execution_count": 14,
   "id": "f5209c1a-1f14-4c08-a5df-6d7b2aaa4ff1",
   "metadata": {},
   "outputs": [],
   "source": [
    "data2.to_csv('Carros.csv',sep=',', encoding = 'utf-8-sig')"
   ]
  },
  {
   "cell_type": "code",
   "execution_count": null,
   "id": "bbe2e1c5-68e2-4383-bb5f-b697c50291e4",
   "metadata": {},
   "outputs": [],
   "source": []
  },
  {
   "cell_type": "code",
   "execution_count": null,
   "id": "423d71dc-d34a-4235-b91e-ff8afd08fb94",
   "metadata": {},
   "outputs": [],
   "source": []
  },
  {
   "cell_type": "code",
   "execution_count": null,
   "id": "bf81726a-b596-4746-8362-2cb29b5ba51f",
   "metadata": {},
   "outputs": [],
   "source": []
  }
 ],
 "metadata": {
  "kernelspec": {
   "display_name": "Python 3",
   "language": "python",
   "name": "python3"
  },
  "language_info": {
   "codemirror_mode": {
    "name": "ipython",
    "version": 3
   },
   "file_extension": ".py",
   "mimetype": "text/x-python",
   "name": "python",
   "nbconvert_exporter": "python",
   "pygments_lexer": "ipython3",
   "version": "3.9.4"
  }
 },
 "nbformat": 4,
 "nbformat_minor": 5
}
