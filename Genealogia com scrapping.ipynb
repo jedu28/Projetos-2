{
 "cells": [
  {
   "cell_type": "code",
   "execution_count": 242,
   "id": "45076af8-40d1-4234-8bd2-1773a8e71d59",
   "metadata": {},
   "outputs": [],
   "source": [
    "from selenium import webdriver\n",
    "driver = webdriver.Chrome(executable_path='./chr_drv/chromedriver.exe')\n",
    "from requests import get\n"
   ]
  },
  {
   "cell_type": "code",
   "execution_count": 243,
   "id": "bd53f9a4-9fd8-452b-86ed-65db001361e8",
   "metadata": {},
   "outputs": [],
   "source": [
    "url= \"https://www.google.com.br/\"\n",
    "resposta = driver.get(url)\n",
    "resposta"
   ]
  },
  {
   "cell_type": "code",
   "execution_count": 244,
   "id": "fe4552ef-21d1-4ec1-96cd-adeb00a909b3",
   "metadata": {},
   "outputs": [],
   "source": [
    "from selenium.webdriver.common.keys import Keys\n",
    "busca =\"My Heritage nascimentos\"\n",
    "caixadebusca=driver.find_element_by_xpath(\"/html/body/div[1]/div[3]/form/div[1]/div[1]/div[1]/div/div[2]/input\")\n",
    "caixadebusca.clear()\n",
    "caixadebusca.send_keys(busca)\n",
    "caixadebusca.send_keys(Keys.RETURN)\n"
   ]
  },
  {
   "cell_type": "code",
   "execution_count": 245,
   "id": "fd19071f-3d7e-44c5-bfb0-7c7666e28f47",
   "metadata": {},
   "outputs": [],
   "source": [
    " driver.find_element_by_xpath(\"/html/body/div[7]/div/div[8]/div[1]/div/div[1]/div[3]/div/div[1]/div/div/div[3]/div[1]/h3/div/a\").click()"
   ]
  },
  {
   "cell_type": "code",
   "execution_count": 247,
   "id": "c68d568e-9ce0-4fc2-a9d0-b518ba5fd467",
   "metadata": {},
   "outputs": [],
   "source": [
    "buscar2 = \"Alfredo\"\n",
    "caixadebusca2 = driver.find_element_by_id(\"S_name_firstName\")\n",
    "busca = driver.find_element_by_id(\"S_name_lastName\")\n",
    "criterio3 = driver.find_element_by_id(\"S_birth_place\")\n",
    "caixadebusca2.clear()\n",
    "busca.clear()\n",
    "criterio3.clear()\n",
    "caixadebusca2.send_keys(buscar2)\n",
    "busca.send_keys(\"Finamore\")\n",
    "criterio3.send_keys(\"Cataguases\")\n",
    "#driver.find_element_by_id('searchFormExactSearchContainer').click()\n",
    "\n",
    "\n",
    "#caixadebusca.send_keys()"
   ]
  },
  {
   "cell_type": "code",
   "execution_count": 248,
   "id": "519a6f30-44d3-43a5-83c2-40deb4f40cf1",
   "metadata": {},
   "outputs": [],
   "source": [
    "driver.find_element_by_id(\"submitButton\").click()\n"
   ]
  },
  {
   "cell_type": "code",
   "execution_count": 189,
   "id": "2c52ceeb-3a51-4b91-9258-5ab2be7a7718",
   "metadata": {},
   "outputs": [],
   "source": [
    "import pandas as pd\n",
    "import numpy as np"
   ]
  },
  {
   "cell_type": "code",
   "execution_count": 384,
   "id": "a54b16e6-d0e9-4ecf-a9af-3c59286b1e56",
   "metadata": {},
   "outputs": [],
   "source": [
    "resultados = driver.find_elements_by_class_name(\"results_container\")\n",
    "for i in resultados: \n",
    "    Página1 = (i.text)\n",
    "  "
   ]
  },
  {
   "cell_type": "code",
   "execution_count": 430,
   "id": "a05bab05-802a-4ff8-bf21-605a51b7b7b8",
   "metadata": {},
   "outputs": [],
   "source": [
    "P1 = Página1.split(\"\\n\")\n",
    "SerieP1 = pd.Series(P1) \n",
    "DataP1 = pd.DataFrame(SerieP1)\n",
    "DataP1.rename(columns = {0:\"Geral\"}, inplace = True)\n"
   ]
  },
  {
   "cell_type": "code",
   "execution_count": 441,
   "id": "e11c7a03-edda-4613-bd89-a74720b51451",
   "metadata": {},
   "outputs": [],
   "source": [
    "mask = DataP1.loc[(DataP1.Geral=='Nascimento')].index\n",
    "indice_desejado = mask -1\n",
    "indice_desejado2 = mask -2"
   ]
  },
  {
   "cell_type": "code",
   "execution_count": 445,
   "id": "c2505e1b-3538-44c7-8a51-161f9aa10fb9",
   "metadata": {},
   "outputs": [],
   "source": [
    "Nascimentos = DataP1.loc[indice_desejado,:]\n",
    "Nomes = DataP1.loc[indice_desejado2,:]"
   ]
  },
  {
   "cell_type": "code",
   "execution_count": 470,
   "id": "2dcb9a0c-fc2d-4d72-92d0-22b9b8248dc3",
   "metadata": {},
   "outputs": [],
   "source": [
    "Nascimentos2 = Nascimentos.reset_index(drop=True)\n",
    "Nomes2 = Nomes.reset_index(drop=True)"
   ]
  },
  {
   "cell_type": "code",
   "execution_count": 479,
   "id": "7bde83b3-9754-4336-a02c-48133b2db59e",
   "metadata": {},
   "outputs": [
    {
     "data": {
      "text/html": [
       "<div>\n",
       "<style scoped>\n",
       "    .dataframe tbody tr th:only-of-type {\n",
       "        vertical-align: middle;\n",
       "    }\n",
       "\n",
       "    .dataframe tbody tr th {\n",
       "        vertical-align: top;\n",
       "    }\n",
       "\n",
       "    .dataframe thead th {\n",
       "        text-align: right;\n",
       "    }\n",
       "</style>\n",
       "<table border=\"1\" class=\"dataframe\">\n",
       "  <thead>\n",
       "    <tr style=\"text-align: right;\">\n",
       "      <th></th>\n",
       "      <th>Geral</th>\n",
       "      <th>Geral</th>\n",
       "    </tr>\n",
       "  </thead>\n",
       "  <tbody>\n",
       "    <tr>\n",
       "      <th>0</th>\n",
       "      <td>Luis Alfredo Pinuñuri</td>\n",
       "      <td>Chile, Batismos, 1585-1932</td>\n",
       "    </tr>\n",
       "    <tr>\n",
       "      <th>1</th>\n",
       "      <td>Jose Alfredo Penunuri</td>\n",
       "      <td>Nascimentos no Arizona, 1887 - 1935</td>\n",
       "    </tr>\n",
       "    <tr>\n",
       "      <th>2</th>\n",
       "      <td>Jose Alfredo Penunuri</td>\n",
       "      <td>Arizona, Nascimentos e Batismos, 1909-1917</td>\n",
       "    </tr>\n",
       "    <tr>\n",
       "      <th>3</th>\n",
       "      <td>Alfred Anthony Finamore</td>\n",
       "      <td>Nascimento no Texas, 1926 - 1995</td>\n",
       "    </tr>\n",
       "    <tr>\n",
       "      <th>4</th>\n",
       "      <td>Carlo A Finamore</td>\n",
       "      <td>Índice de Nascimentos de Nova Jersey 1901-1903</td>\n",
       "    </tr>\n",
       "    <tr>\n",
       "      <th>5</th>\n",
       "      <td>John A Finamore</td>\n",
       "      <td>Ohio, Índice de Nascimentos, 1959-1998</td>\n",
       "    </tr>\n",
       "    <tr>\n",
       "      <th>6</th>\n",
       "      <td>Bruce A Finamore</td>\n",
       "      <td>Ohio, Índice de Nascimentos, 1959-1998</td>\n",
       "    </tr>\n",
       "    <tr>\n",
       "      <th>7</th>\n",
       "      <td>Douglas A Finamore</td>\n",
       "      <td>Ohio, Índice de Nascimentos, 1959-1998</td>\n",
       "    </tr>\n",
       "    <tr>\n",
       "      <th>8</th>\n",
       "      <td>Ricky A Finamore</td>\n",
       "      <td>Nascimentos na California, 1905 - 1995</td>\n",
       "    </tr>\n",
       "    <tr>\n",
       "      <th>9</th>\n",
       "      <td>Alfred Francis Finemore</td>\n",
       "      <td>Austrália, Índice de Nascimentos em Victoria, ...</td>\n",
       "    </tr>\n",
       "  </tbody>\n",
       "</table>\n",
       "</div>"
      ],
      "text/plain": [
       "                     Geral                                              Geral\n",
       "0    Luis Alfredo Pinuñuri                         Chile, Batismos, 1585-1932\n",
       "1    Jose Alfredo Penunuri                Nascimentos no Arizona, 1887 - 1935\n",
       "2    Jose Alfredo Penunuri         Arizona, Nascimentos e Batismos, 1909-1917\n",
       "3  Alfred Anthony Finamore                   Nascimento no Texas, 1926 - 1995\n",
       "4         Carlo A Finamore     Índice de Nascimentos de Nova Jersey 1901-1903\n",
       "5          John A Finamore             Ohio, Índice de Nascimentos, 1959-1998\n",
       "6         Bruce A Finamore             Ohio, Índice de Nascimentos, 1959-1998\n",
       "7       Douglas A Finamore             Ohio, Índice de Nascimentos, 1959-1998\n",
       "8         Ricky A Finamore             Nascimentos na California, 1905 - 1995\n",
       "9  Alfred Francis Finemore  Austrália, Índice de Nascimentos em Victoria, ..."
      ]
     },
     "execution_count": 479,
     "metadata": {},
     "output_type": "execute_result"
    }
   ],
   "source": [
    "Final = pd.concat([Nomes2,Nascimentos2], axis=1)\n",
    "Final1 = Final.drop_duplicates()\n",
    "Final2 = Final1.reset_index(drop = True)\n",
    "Final2\n"
   ]
  },
  {
   "cell_type": "code",
   "execution_count": 239,
   "id": "9ec75d5c-062c-4992-873d-f26be5929813",
   "metadata": {},
   "outputs": [
    {
     "name": "stdout",
     "output_type": "stream",
     "text": [
      "Requirement already satisfied: beautifulsoup4 in c:\\users\\josee\\anaconda3\\envs\\aula_dh\\lib\\site-packages (4.9.3)\n",
      "Requirement already satisfied: soupsieve>1.2 in c:\\users\\josee\\anaconda3\\envs\\aula_dh\\lib\\site-packages (from beautifulsoup4) (2.2.1)\n"
     ]
    }
   ],
   "source": [
    "!pip install beautifulsoup4\n",
    "from bs4 import BeautifulSoup"
   ]
  },
  {
   "cell_type": "code",
   "execution_count": null,
   "id": "78b9e658-6f75-4d56-b2cd-0b645c683605",
   "metadata": {},
   "outputs": [],
   "source": []
  },
  {
   "cell_type": "code",
   "execution_count": 177,
   "id": "d5d6644c-c98f-474c-a850-3b5f321513e9",
   "metadata": {},
   "outputs": [
    {
     "data": {
      "text/plain": [
       "'u'"
      ]
     },
     "execution_count": 177,
     "metadata": {},
     "output_type": "execute_result"
    }
   ],
   "source": [
    "pagina2[0][1]"
   ]
  },
  {
   "cell_type": "code",
   "execution_count": null,
   "id": "02e89dc1-eaf3-40e2-a1f3-5f9145ef3c06",
   "metadata": {},
   "outputs": [],
   "source": []
  }
 ],
 "metadata": {
  "kernelspec": {
   "display_name": "Python 3",
   "language": "python",
   "name": "python3"
  },
  "language_info": {
   "codemirror_mode": {
    "name": "ipython",
    "version": 3
   },
   "file_extension": ".py",
   "mimetype": "text/x-python",
   "name": "python",
   "nbconvert_exporter": "python",
   "pygments_lexer": "ipython3",
   "version": "3.9.4"
  }
 },
 "nbformat": 4,
 "nbformat_minor": 5
}
